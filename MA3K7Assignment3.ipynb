{
 "cells": [
  {
   "cell_type": "code",
   "execution_count": 1,
   "id": "b9ef9a07",
   "metadata": {},
   "outputs": [],
   "source": [
    "import random\n",
    "import matplotlib.pyplot as plt\n",
    "import numpy as np\n",
    "from scipy.stats import uniform, norm\n",
    "import seaborn as sns"
   ]
  },
  {
   "cell_type": "code",
   "execution_count": 2,
   "id": "4133f707",
   "metadata": {},
   "outputs": [
    {
     "name": "stdout",
     "output_type": "stream",
     "text": [
      "444\n"
     ]
    }
   ],
   "source": [
    "hat = list(range(1, 2025))\n",
    "\n",
    "def ope(hat):\n",
    "    while len(hat) > 1:\n",
    "    # Randomly draw two pieces of paper\n",
    "        draw = random.sample(hat, 2)\n",
    "\n",
    "        difference = abs(draw[0] - draw[1])\n",
    "        hat.remove(draw[0])\n",
    "        hat.remove(draw[1])\n",
    "\n",
    "        hat.append(difference)\n",
    "    return hat[0]\n",
    "print(ope(hat))\n",
    "\n",
    "n = 1000\n",
    "result = np.zeros(n)\n",
    "for i in range(n):\n",
    "    hat = list(range(1, 2025))\n",
    "    result[i] = ope(hat)"
   ]
  },
  {
   "cell_type": "code",
   "execution_count": 3,
   "id": "1e6d42e7",
   "metadata": {},
   "outputs": [
    {
     "name": "stdout",
     "output_type": "stream",
     "text": [
      "400 0\n"
     ]
    }
   ],
   "source": [
    "a = 0\n",
    "b = 0\n",
    "for i in range(400):\n",
    "    if hat[0]%2 == 0:\n",
    "        a+=1\n",
    "    else:\n",
    "        b+=1\n",
    "        \n",
    "print(a,b)"
   ]
  },
  {
   "cell_type": "code",
   "execution_count": 4,
   "id": "2e285189",
   "metadata": {},
   "outputs": [
    {
     "data": {
      "image/png": "[encoded data removed]",
      "text/plain": [
       "<Figure size 720x432 with 1 Axes>"
      ]
     },
     "metadata": {
      "needs_background": "light"
     },
     "output_type": "display_data"
    }
   ],
   "source": [
    "plt.figure(figsize=(10, 6))\n",
    "plt.hist(result, bins=np.arange(min(result)-0.5, max(result)+1.5, 1), alpha=0.7, edgecolor='black')\n",
    "plt.title('Frequency of Final Numbers Over 500 Iterations')\n",
    "plt.xlabel('Final Number')\n",
    "plt.ylabel('Frequency')\n",
    "plt.xticks(np.arange(min(result), max(result)+1, 1))\n",
    "plt.grid(axis='y', alpha=0.75)\n",
    "plt.show()"
   ]
  },
  {
   "cell_type": "code",
   "execution_count": null,
   "id": "e6fc1b51",
   "metadata": {},
   "outputs": [],
   "source": []
  }
 ],
 "metadata": {
  "kernelspec": {
   "display_name": "Python 3 (ipykernel)",
   "language": "python",
   "name": "python3"
  },
  "language_info": {
   "codemirror_mode": {
    "name": "ipython",
    "version": 3
   },
   "file_extension": ".py",
   "mimetype": "text/x-python",
   "name": "python",
   "nbconvert_exporter": "python",
   "pygments_lexer": "ipython3",
   "version": "3.9.7"
  }
 },
 "nbformat": 4,
 "nbformat_minor": 5
}
