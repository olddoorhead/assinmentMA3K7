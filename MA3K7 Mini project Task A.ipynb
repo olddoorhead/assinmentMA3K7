{
 "cells": [
  {
   "cell_type": "code",
   "execution_count": 1,
   "id": "d52fc4ca",
   "metadata": {},
   "outputs": [
    {
     "name": "stdout",
     "output_type": "stream",
     "text": [
      "Using matplotlib backend: Qt5Agg\n"
     ]
    }
   ],
   "source": [
    "import random\n",
    "import numpy as np\n",
    "import matplotlib.pyplot as plt\n",
    "from matplotlib.animation import FuncAnimation\n",
    "%matplotlib"
   ]
  },
  {
   "cell_type": "code",
   "execution_count": 2,
   "id": "aec9498d",
   "metadata": {
    "scrolled": false
   },
   "outputs": [],
   "source": [
    "def distribute_water(glasses):\n",
    "    # Ali distributes the volume randomly among the glasses\n",
    "    for i in range(20):  \n",
    "        glasses[random.randint(0, len(glasses) - 1)] += 0.5/20 \n",
    "    return glasses\n",
    "\n",
    "def remove_water(glasses):\n",
    "    # Beth randomly selects two adjacent glasses to empty\n",
    "    start_glass = random.randint(0, len(glasses) - 1)\n",
    "    glasses[start_glass] = 0\n",
    "    glasses[(start_glass + 1) % len(glasses)] = 0 \n",
    "    return glasses\n",
    "\n",
    "def simulate_game(turns,num_glasses):\n",
    "    glasses = [0]*num_glasses\n",
    "    for t in range(turns):\n",
    "        glasses = distribute_water(glasses)\n",
    "        glasses = remove_water(glasses)\n",
    "        if any(glass > 1 for glass in glasses):  \n",
    "            return t+1\n",
    "    return 0\n"
   ]
  },
  {
   "cell_type": "code",
   "execution_count": 3,
   "id": "99d746cf",
   "metadata": {
    "scrolled": false
   },
   "outputs": [],
   "source": [
    "def calculate_probabilities(turns, simulations, num_glasses):\n",
    "    overflow_counts = [0] * (turns + 1) \n",
    "\n",
    "    for i in range(simulations):\n",
    "        turn = simulate_game(turns, num_glasses)\n",
    "        overflow_counts[turn] += 1\n",
    "\n",
    "    probabilities = [count / simulations for count in overflow_counts]\n",
    "    return probabilities"
   ]
  },
  {
   "cell_type": "code",
   "execution_count": null,
   "id": "3738af86",
   "metadata": {},
   "outputs": [],
   "source": [
    "glasses = [0, 0, 0, 0, 0]\n",
    "num_glasses = 5\n",
    "turns = 10\n",
    "simulations = 100\n",
    "probabilities = calculate_probabilities(turns, simulations, num_glasses)\n",
    "\n",
    "for t in range(1, turns + 1):\n",
    "    print(f\"Probability of overflow on turn {t}: {probabilities[t]:.4f}\")\n",
    "print(f\"Probability of no overflow within {turns} turns: {probabilities[0]:.4f}\")"
   ]
  },
  {
   "cell_type": "code",
   "execution_count": 4,
   "id": "6109ee6a",
   "metadata": {},
   "outputs": [],
   "source": [
    "turns = 50\n",
    "simulations = 1000\n",
    "\n",
    "fig, ax = plt.subplots()\n",
    "ax.set_xlim(0, turns)\n",
    "ax.set_ylim(0, 1.1)  \n",
    "ax.set_xlabel('Number of Turns')\n",
    "ax.set_ylabel('Cumulative Probability of Overflow')\n",
    "ax.grid()\n",
    "line, = ax.plot([], [], lw=2)\n",
    "title = ax.set_title('')\n",
    "\n",
    "def animate(num_glasses):\n",
    "    probabilities = calculate_probabilities(turns, simulations, num_glasses)\n",
    "    # Convert the probabilities list to a cumulative one\n",
    "    cumulative_probabilities = np.cumsum(probabilities[1:]) \n",
    "    x = np.arange(1, turns + 1)\n",
    "    y = cumulative_probabilities\n",
    "    line.set_data(x, y)\n",
    "    title.set_text(f'Cumulative Probability of Overflow for {num_glasses} Glasses')\n",
    "    return line, title\n",
    "\n",
    "\n",
    "ani = FuncAnimation(fig, animate, frames=range(2, 11), interval=800)  \n",
    "\n",
    "\n",
    "plt.show()"
   ]
  },
  {
   "cell_type": "code",
   "execution_count": 5,
   "id": "87a413a0",
   "metadata": {},
   "outputs": [],
   "source": [
    "turns = 50\n",
    "simulations = 1000\n",
    "max_glasses = 10  \n",
    "\n",
    "for num_glasses in range(2, max_glasses + 1):  \n",
    "    # Calculate probabilities\n",
    "    probabilities = calculate_probabilities(turns, simulations, num_glasses)\n",
    "    cumulative_probabilities = np.cumsum(probabilities[1:])  # Skip the first value (no overflow)\n",
    "    \n",
    "    plt.figure(figsize=(8, 6))\n",
    "    plt.plot(np.arange(1, turns + 1), cumulative_probabilities, lw=2, label=f'{num_glasses} Glasses')\n",
    "    plt.xlim(0, turns)\n",
    "    plt.ylim(0, 1.1)\n",
    "    plt.xlabel('Number of Turns')\n",
    "    plt.ylabel('Cumulative Probability of Overflow')\n",
    "    plt.title(f'Cumulative Probability of Overflow for {num_glasses} Glasses')\n",
    "    plt.legend()\n",
    "    plt.grid()\n",
    "    plt.show()"
   ]
  },
  {
   "cell_type": "code",
   "execution_count": null,
   "id": "44e86882",
   "metadata": {},
   "outputs": [],
   "source": []
  },
  {
   "cell_type": "code",
   "execution_count": null,
   "id": "cb627f31",
   "metadata": {},
   "outputs": [],
   "source": []
  },
  {
   "cell_type": "code",
   "execution_count": null,
   "id": "b78a64db",
   "metadata": {},
   "outputs": [],
   "source": []
  },
  {
   "cell_type": "code",
   "execution_count": 6,
   "id": "45aec1d2",
   "metadata": {},
   "outputs": [],
   "source": [
    "def remove_water_stategy1(glasses):\n",
    "    max_index = glasses.index(max(glasses))  \n",
    "    # Determine the indices of the adjacent glasses, considering the circular arrangement\n",
    "    left_index = (max_index - 1) % len(glasses)\n",
    "    right_index = (max_index + 1) % len(glasses)\n",
    "    \n",
    "    if glasses[left_index] > glasses[right_index]:\n",
    "        glasses[left_index] = 0 \n",
    "    else:\n",
    "        glasses[right_index] = 0  \n",
    "    \n",
    "    glasses[max_index] = 0  \n",
    "    return glasses"
   ]
  },
  {
   "cell_type": "code",
   "execution_count": 7,
   "id": "9846a6eb",
   "metadata": {},
   "outputs": [],
   "source": [
    "def remove_water_strategy2(glasses):\n",
    "    max_sum = 0 \n",
    "    index = 0 \n",
    "\n",
    "    for i in range(len(glasses)):\n",
    "        j = (i + 1) % len(glasses)\n",
    "        current_sum = glasses[i] + glasses[j]\n",
    "        if current_sum > max_sum:\n",
    "            max_sum = current_sum\n",
    "            index = i\n",
    "\n",
    "    # Empty the two glasses with the maximum total volume\n",
    "    glasses[index] = 0\n",
    "    glasses[(index + 1) % len(glasses)] = 0\n",
    "\n",
    "    return index, max_sum"
   ]
  },
  {
   "cell_type": "code",
   "execution_count": 8,
   "id": "392f93b9",
   "metadata": {},
   "outputs": [],
   "source": [
    "# Ali's water distribute strategy for five glasses\n",
    "def distribute_water_ali_strategy5(glasses, increment):\n",
    "    total_water = glasses[0] + glasses[2] + glasses[3]\n",
    "    water_for_glass_1 = (total_water+1/2)/2 - 2*increment\n",
    "    water_for_glass_3_4 = (total_water+1/2)/4+increment\n",
    "\n",
    "    glasses[0] = water_for_glass_1\n",
    "    glasses[2] = water_for_glass_3_4\n",
    "    glasses[3] = water_for_glass_3_4\n",
    "    \n",
    "    return glasses"
   ]
  },
  {
   "cell_type": "code",
   "execution_count": 9,
   "id": "500a2c96",
   "metadata": {},
   "outputs": [],
   "source": [
    "def simulate_game(turns, num_glasses, increment):\n",
    "    glasses = [0] * num_glasses\n",
    "    for t in range(turns):\n",
    "        glasses = distribute_water_ali_strategy5(glasses, increment)\n",
    "        glasses = remove_water_stategy1(glasses)\n",
    "        if all(glass > 0.5 for glass in glasses):\n",
    "            return t + 1\n",
    "    return 0  \n",
    "\n",
    "\n",
    "max_turns = 50\n",
    "simulations = 100\n",
    "num_glasses = 5\n",
    "increments = np.linspace(0.0001, 0.1, 200)  \n",
    "\n",
    "fig, ax = plt.subplots()\n",
    "line, = ax.plot([], [], 'r-', lw=2)\n",
    "ax.set_xlim(0, max_turns)\n",
    "ax.set_ylim(0, 1)\n",
    "ax.set_xlabel('Number of Turns')\n",
    "ax.set_ylabel('Probability of Ali Causing an Overflow')\n",
    "ax.grid()\n",
    "title = ax.set_title('')\n",
    "\n",
    "def init():\n",
    "    line.set_data([], [])\n",
    "    title.set_text('')\n",
    "    return line, title\n",
    "\n",
    "def animate(i):\n",
    "    increment = increments[i]\n",
    "    probabilities = [sum(simulate_game(turn, num_glasses, increment) for _ in range(simulations)) / simulations for turn in range(1, max_turns + 1)]\n",
    "    x = np.arange(1, max_turns + 1)\n",
    "    y = probabilities\n",
    "    line.set_data(x, y)\n",
    "    title.set_text(f'Increment: {increment:.2f}')\n",
    "    return line, title\n",
    "\n",
    "ani = FuncAnimation(fig, animate, init_func=init, frames=len(increments), blit=True, interval=200)\n",
    "\n",
    "plt.title('Probability of Ali Causing an Overflow Over Turns (Varying Increment)')\n",
    "plt.show()"
   ]
  },
  {
   "cell_type": "code",
   "execution_count": null,
   "id": "23fb1d18",
   "metadata": {},
   "outputs": [],
   "source": []
  },
  {
   "cell_type": "code",
   "execution_count": null,
   "id": "2b5811aa",
   "metadata": {},
   "outputs": [],
   "source": []
  },
  {
   "cell_type": "code",
   "execution_count": 11,
   "id": "dacd1aa6",
   "metadata": {
    "scrolled": false
   },
   "outputs": [
    {
     "name": "stdout",
     "output_type": "stream",
     "text": [
      "After Ali's move: [0.16666666666666666, 0.16666666666666666, 0.16666666666666666]\n",
      "After Beth's move: [0, 0, 0.16666666666666666]\n",
      "After Ali's move: [0.2222222222222222, 0.2222222222222222, 0.2222222222222222]\n",
      "After Beth's move: [0, 0, 0.2222222222222222]\n",
      "After Ali's move: [0.24074074074074073, 0.24074074074074073, 0.24074074074074073]\n",
      "After Beth's move: [0, 0, 0.24074074074074073]\n",
      "After Ali's move: [0.24691358024691357, 0.24691358024691357, 0.24691358024691357]\n",
      "After Beth's move: [0, 0, 0.24691358024691357]\n",
      "After Ali's move: [0.24897119341563786, 0.24897119341563786, 0.24897119341563786]\n",
      "After Beth's move: [0, 0, 0.24897119341563786]\n",
      "After Ali's move: [0.2496570644718793, 0.2496570644718793, 0.2496570644718793]\n",
      "After Beth's move: [0, 0, 0.2496570644718793]\n",
      "After Ali's move: [0.2498856881572931, 0.2498856881572931, 0.2498856881572931]\n",
      "After Beth's move: [0, 0, 0.2498856881572931]\n",
      "After Ali's move: [0.24996189605243102, 0.24996189605243102, 0.24996189605243102]\n",
      "After Beth's move: [0, 0, 0.24996189605243102]\n",
      "After Ali's move: [0.24998729868414368, 0.24998729868414368, 0.24998729868414368]\n",
      "After Beth's move: [0, 0, 0.24998729868414368]\n",
      "After Ali's move: [0.2499957662280479, 0.2499957662280479, 0.2499957662280479]\n",
      "After Beth's move: [0, 0, 0.2499957662280479]\n",
      "Ali will not have a glass with more than half a pint by Round10\n"
     ]
    }
   ],
   "source": [
    "def distribute_water_evenly_strategy_check3(glasses):\n",
    "    total_water = sum(glasses) + 0.5 \n",
    "    new_water_level = total_water / len(glasses)\n",
    "    \n",
    "    for i in range(len(glasses)):\n",
    "        glasses[i] = new_water_level\n",
    "    return glasses\n",
    "\n",
    "def simulate_game3(turns, num_glasses):\n",
    "    glasses = [0] * num_glasses\n",
    "    for t in range(turns):\n",
    "        glasses = distribute_water_evenly_strategy_check3(glasses)\n",
    "        print(f\"After Ali's move: {glasses}\")\n",
    "        glasses = remove_water_stategy1(glasses)\n",
    "        print(f\"After Beth's move: {glasses}\")\n",
    "        if all(glass > 0.5 for glass in glasses):\n",
    "            return t + 1 \n",
    "    return 0 \n",
    "\n",
    "turns = 10\n",
    "num_glasses = 3\n",
    "result = simulate_game3(turns, num_glasses)\n",
    "if result == 0:\n",
    "    print ('Ali will not have a glass with more than half a pint by Round10')\n",
    "else:\n",
    "    print(f\"Ali have a glass with more than half a pint by Round: {result}\")"
   ]
  },
  {
   "cell_type": "code",
   "execution_count": 12,
   "id": "2c9cfb69",
   "metadata": {},
   "outputs": [
    {
     "name": "stdout",
     "output_type": "stream",
     "text": [
      "After Ali's move: [0.25, 0, 0.25, 0]\n",
      "After Beth's move: [0, 0, 0.25, 0]\n",
      "After Ali's move: [0.375, 0, 0.375, 0]\n",
      "After Beth's move: [0, 0, 0.375, 0]\n",
      "After Ali's move: [0.4375, 0, 0.4375, 0]\n",
      "After Beth's move: [0, 0, 0.4375, 0]\n",
      "After Ali's move: [0.46875, 0, 0.46875, 0]\n",
      "After Beth's move: [0, 0, 0.46875, 0]\n",
      "After Ali's move: [0.484375, 0, 0.484375, 0]\n",
      "After Beth's move: [0, 0, 0.484375, 0]\n",
      "After Ali's move: [0.4921875, 0, 0.4921875, 0]\n",
      "After Beth's move: [0, 0, 0.4921875, 0]\n",
      "After Ali's move: [0.49609375, 0, 0.49609375, 0]\n",
      "After Beth's move: [0, 0, 0.49609375, 0]\n",
      "After Ali's move: [0.498046875, 0, 0.498046875, 0]\n",
      "After Beth's move: [0, 0, 0.498046875, 0]\n",
      "After Ali's move: [0.4990234375, 0, 0.4990234375, 0]\n",
      "After Beth's move: [0, 0, 0.4990234375, 0]\n",
      "After Ali's move: [0.49951171875, 0, 0.49951171875, 0]\n",
      "After Beth's move: [0, 0, 0.49951171875, 0]\n",
      "Ali will not have a glass with more than half a pint by Round10\n"
     ]
    }
   ],
   "source": [
    "\n",
    "def distribute_water_evenly_strategy_check4(glasses):\n",
    "    total_water = sum(glasses) + 0.5  \n",
    "    new_water_level = total_water / 2  \n",
    "    for i in [0, 2]: \n",
    "        glasses[i] = new_water_level\n",
    "    return glasses\n",
    "\n",
    "def simulate_game4(turns, num_glasses):\n",
    "    glasses = [0] * num_glasses\n",
    "    for t in range(turns):\n",
    "        glasses = distribute_water_evenly_strategy_check4(glasses)\n",
    "        print(f\"After Ali's move: {glasses}\")\n",
    "        glasses = remove_water_stategy1(glasses)\n",
    "        print(f\"After Beth's move: {glasses}\")\n",
    "        if any(glass > 0.5 for glass in glasses):\n",
    "            return t + 1\n",
    "    return 0\n",
    "\n",
    "\n",
    "turns = 10\n",
    "num_glasses = 4\n",
    "result = simulate_game4(turns, num_glasses)\n",
    "if result == 0:\n",
    "    print ('Ali will not have a glass with more than half a pint by Round10')\n",
    "else:\n",
    "    print(f\"Ali have a glass with more than half a pint by Round: {result}\")"
   ]
  },
  {
   "cell_type": "code",
   "execution_count": 13,
   "id": "bf1ed0ce",
   "metadata": {},
   "outputs": [
    {
     "name": "stdout",
     "output_type": "stream",
     "text": [
      "After Ali's move: [0.16666666666666666, 0, 0.16666666666666666, 0, 0.16666666666666666, 0]\n",
      "After Beth's move: [0, 0, 0.16666666666666666, 0, 0.16666666666666666, 0]\n",
      "After Ali's move: [0.27777777777777773, 0, 0.27777777777777773, 0, 0.27777777777777773, 0]\n",
      "After Beth's move: [0, 0, 0.27777777777777773, 0, 0.27777777777777773, 0]\n",
      "Ali have more than two 1/4 by Round: 2\n"
     ]
    }
   ],
   "source": [
    "def distribute_water_evenly_strategy_check6(glasses):\n",
    "    total_water = sum(glasses) + 0.5 \n",
    "    new_water_level = total_water / 3  \n",
    "    for i in [0, 2, 4]:\n",
    "        glasses[i] = new_water_level\n",
    "    return glasses\n",
    "\n",
    "def simulate_game6(turns, num_glasses):\n",
    "    glasses = [0] * num_glasses\n",
    "    for t in range(turns):\n",
    "        glasses = distribute_water_evenly_strategy_check6(glasses)\n",
    "        print(f\"After Ali's move: {glasses}\")\n",
    "        glasses = remove_water_stategy1(glasses)\n",
    "        print(f\"After Beth's move: {glasses}\")\n",
    "        count_over_quarter = sum(glass > 0.25 for glass in glasses)\n",
    "        \n",
    "        # Check if at least two glasses have more than 1/4 units of water\n",
    "        if count_over_quarter >= 2:\n",
    "            return t + 1  \n",
    "    return 0 \n",
    "\n",
    "\n",
    "turns = 20\n",
    "num_glasses = 6\n",
    "result = simulate_game6(turns, num_glasses)\n",
    "print(f\"Ali have more than two 1/4 by Round: {result}\")"
   ]
  },
  {
   "cell_type": "code",
   "execution_count": null,
   "id": "83c902ca",
   "metadata": {},
   "outputs": [],
   "source": []
  },
  {
   "cell_type": "code",
   "execution_count": null,
   "id": "d597e685",
   "metadata": {},
   "outputs": [],
   "source": []
  },
  {
   "cell_type": "code",
   "execution_count": null,
   "id": "7dae939b",
   "metadata": {},
   "outputs": [],
   "source": []
  }
 ],
 "metadata": {
  "kernelspec": {
   "display_name": "Python 3 (ipykernel)",
   "language": "python",
   "name": "python3"
  },
  "language_info": {
   "codemirror_mode": {
    "name": "ipython",
    "version": 3
   },
   "file_extension": ".py",
   "mimetype": "text/x-python",
   "name": "python",
   "nbconvert_exporter": "python",
   "pygments_lexer": "ipython3",
   "version": "3.9.7"
  }
 },
 "nbformat": 4,
 "nbformat_minor": 5
}
