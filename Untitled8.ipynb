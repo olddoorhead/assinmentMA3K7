{
 "cells": [
  {
   "cell_type": "code",
   "execution_count": 1,
   "id": "c326b8f7",
   "metadata": {},
   "outputs": [],
   "source": [
    "import numpy as np"
   ]
  },
  {
   "cell_type": "code",
   "execution_count": 24,
   "id": "f652d6bf",
   "metadata": {},
   "outputs": [
    {
     "name": "stdout",
     "output_type": "stream",
     "text": [
      "60\n",
      "[1 5 6 1 7 8 5 3 8 1 9 0 9 9 8 7 5 2 7 9 6 5 1 6 7 3 0 3 3 6 9 5 4 9 3 2 5\n",
      " 7 2 9 1 0 1 1 2 3 5 8 3 1 4 5 9 4 3 7 0 7 7 4 1 5 6 1 7 8 5 3 8 1 9 0 9 9\n",
      " 8 7 5 2 7 9 6 5 1 6 7 3 0 3 3 6 9 5 4 9 3 2 5 7 2 9]\n",
      "Unseen Pairs:\n",
      "0 0\n",
      "0 2\n",
      "0 4\n",
      "0 5\n",
      "0 6\n",
      "0 8\n",
      "1 2\n",
      "1 4\n",
      "1 7\n",
      "2 0\n",
      "2 2\n",
      "2 4\n",
      "2 6\n",
      "2 8\n",
      "3 1\n",
      "3 6\n",
      "4 0\n",
      "4 2\n",
      "4 3\n",
      "4 4\n",
      "4 6\n",
      "4 8\n",
      "5 0\n",
      "5 5\n",
      "6 0\n",
      "6 2\n",
      "6 4\n",
      "6 6\n",
      "6 7\n",
      "6 8\n",
      "7 4\n",
      "8 0\n",
      "8 1\n",
      "8 2\n",
      "8 4\n",
      "8 6\n",
      "8 8\n"
     ]
    }
   ],
   "source": [
    "n = np.arange(0,100)\n",
    "a_n = np.zeros_like(n, dtype = int)\n",
    "a_n[0] = 1\n",
    "a_n[1] = 5\n",
    "\n",
    "for N in np.arange(2,100):\n",
    "    an2= np.mod(a_n[N-2] + a_n[N-1], 10)\n",
    "    a_n[N] = an2\n",
    "    if a_n[N] == 5:\n",
    "        if a_n[N-1] ==1:\n",
    "            print(N-1)\n",
    "print(a_n)\n",
    "\n",
    "\n",
    "all_possible_pairs = set((i, j) for i in range(9) for j in range(9))\n",
    "occurred_pairs = set((a_n[N], a_n[N-1]) for N in range(1, 60))\n",
    "\n",
    "unseen_pairs = all_possible_pairs - occurred_pairs\n",
    "\n",
    "print(\"Unseen Pairs:\")\n",
    "for i, j in sorted(unseen_pairs):\n",
    "    print(i, j)"
   ]
  },
  {
   "cell_type": "code",
   "execution_count": 23,
   "id": "7721a838",
   "metadata": {},
   "outputs": [
    {
     "name": "stdout",
     "output_type": "stream",
     "text": [
      "60\n",
      "[1 7 8 5 3 8 1 9 0 9 9 8 7 5 2 7 9 6 5 1 6 7 3 0 3 3 6 9 5 4 9 3 2 5 7 2 9\n",
      " 1 0 1 1 2 3 5 8 3 1 4 5 9 4 3 7 0 7 7 4 1 5 6 1 7 8 5 3 8 1 9 0 9 9 8 7 5\n",
      " 2 7 9 6 5 1 6 7 3 0 3 3 6 9 5 4 9 3 2 5 7 2 9 1 0 1]\n"
     ]
    }
   ],
   "source": [
    "n = np.arange(0,100)\n",
    "a_n = np.zeros_like(n, dtype = int)\n",
    "a_n[0] = 1\n",
    "a_n[1] = 7\n",
    "\n",
    "for N in np.arange(2,100):\n",
    "    an2= np.mod(a_n[N-2] + a_n[N-1], 10)\n",
    "    a_n[N] = an2\n",
    "    if a_n[N] == 7:\n",
    "        if a_n[N-1] ==1:\n",
    "            print(N-1)\n",
    "print(a_n)"
   ]
  },
  {
   "cell_type": "code",
   "execution_count": null,
   "id": "e7466f48",
   "metadata": {},
   "outputs": [],
   "source": []
  }
 ],
 "metadata": {
  "kernelspec": {
   "display_name": "Python 3 (ipykernel)",
   "language": "python",
   "name": "python3"
  },
  "language_info": {
   "codemirror_mode": {
    "name": "ipython",
    "version": 3
   },
   "file_extension": ".py",
   "mimetype": "text/x-python",
   "name": "python",
   "nbconvert_exporter": "python",
   "pygments_lexer": "ipython3",
   "version": "3.9.7"
  }
 },
 "nbformat": 4,
 "nbformat_minor": 5
}
